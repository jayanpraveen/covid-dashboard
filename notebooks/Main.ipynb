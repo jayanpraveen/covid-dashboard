{
 "cells": [
  {
   "cell_type": "markdown",
   "metadata": {},
   "source": [
    "# Covid-19 Dashboard\n",
    "### Dashboard displaying spread of covid-19 world map."
   ]
  },
  {
   "cell_type": "code",
   "execution_count": null,
   "metadata": {},
   "outputs": [],
   "source": [
    "import math\n",
    "import pandas as pd\n",
    "import folium\n",
    "from folium.plugins import MarkerCluster\n",
    "from folium.plugins import HeatMap\n",
    "from branca.element import Figure # Map selector"
   ]
  },
  {
   "cell_type": "code",
   "execution_count": null,
   "metadata": {},
   "outputs": [],
   "source": [
    "data = pd.read_csv('https://raw.githubusercontent.com/CSSEGISandData/COVID-19/web-data/data/cases_country.csv')"
   ]
  },
  {
   "cell_type": "code",
   "execution_count": null,
   "metadata": {},
   "outputs": [],
   "source": [
    "data.columns = map(str.lower, data.columns)\n",
    "data = data.drop(\"last_update\", axis = 1)"
   ]
  },
  {
   "cell_type": "markdown",
   "metadata": {},
   "source": [
    "# World Map:"
   ]
  },
  {
   "cell_type": "code",
   "execution_count": null,
   "metadata": {},
   "outputs": [],
   "source": [
    "world_map = folium.Map(tiles = 'openstreetmap', min_zoom = 1.5)\n",
    "marker_cluster = MarkerCluster().add_to(world_map)\n",
    "\n",
    "for i in range(len(data)):\n",
    "    # Skiping NaN values as it cannot be plotted in Folium\n",
    "    if(not(math.isnan(data['lat'][i]))):\n",
    "        folium.CircleMarker(\n",
    "            location=[data['lat'][i], data['long_'][i]],\n",
    "            fill=True,\n",
    "            color='red',\n",
    "            fill_color= 'blue',\n",
    "            radius= int(math.log(data['deaths'][i]+1)*6),\n",
    "            tooltip = \"<div style=' background-color: #171C26; color: #20D717;'>\"+\n",
    "                      \"<h4 style='text-align:center;font-weight: bold'>\"+data['country_region'][i] + \"</h3>\"\n",
    "                      \"<hr>\"+\n",
    "                      \"<ul style='color: black;padding-left:150px;padding-right:150px'>\"+\n",
    "                        \"<li style='color: #3291F3;font-weight: bold'>Confirmed: \"+str(data['confirmed'][i])+\"</li>\"+\n",
    "                        \"<li style='color: #DD0202;font-weight: bold'>Deaths:    \"+str(data['deaths'][i])+\"</li>\"+\n",
    "                        \"<li style='color: #069B0D;font-weight: bold'>Mortality Rate:   \"+str(round(data['mortality_rate'][i],2))+\"</li>\"+\n",
    "                    \"</ul>\"+\n",
    "                    \"</div>\",\n",
    "        ).add_to(marker_cluster)\n",
    "        \n",
    "folium.TileLayer('openstreetmap').add_to(world_map)\n",
    "folium.TileLayer('Stamen Toner').add_to(world_map)\n",
    "folium.TileLayer('Stamen Water Color').add_to(world_map)\n",
    "folium.TileLayer('cartodbpositron').add_to(world_map)\n",
    "folium.TileLayer('cartodbdark_matter').add_to(world_map)\n",
    "folium.LayerControl().add_to(world_map) \n",
    "world_map"
   ]
  },
  {
   "cell_type": "code",
   "execution_count": null,
   "metadata": {},
   "outputs": [],
   "source": [
    "heatMap = folium.Map(tiles='StamenToner',  min_zoom = 1.5)"
   ]
  },
  {
   "cell_type": "code",
   "execution_count": null,
   "metadata": {},
   "outputs": [],
   "source": [
    "# Droping NaN values using dropna()"
   ]
  },
  {
   "cell_type": "code",
   "execution_count": null,
   "metadata": {},
   "outputs": [],
   "source": [
    "lat = data['lat'].astype(float)\n",
    "lat = lat.dropna() "
   ]
  },
  {
   "cell_type": "code",
   "execution_count": null,
   "metadata": {},
   "outputs": [],
   "source": [
    "lon = data['long_'].astype(float)\n",
    "lon = lon.dropna() "
   ]
  },
  {
   "cell_type": "code",
   "execution_count": null,
   "metadata": {},
   "outputs": [],
   "source": [
    "deaths = data['deaths'].astype(float)"
   ]
  },
  {
   "cell_type": "markdown",
   "metadata": {},
   "source": [
    "<br>\n",
    "***\n",
    "<br>"
   ]
  },
  {
   "cell_type": "markdown",
   "metadata": {},
   "source": [
    "# Heat Map:"
   ]
  },
  {
   "cell_type": "code",
   "execution_count": null,
   "metadata": {
    "scrolled": false
   },
   "outputs": [],
   "source": [
    "heatMap.add_child(HeatMap(zip(lat,lon,deaths),radius = 0))"
   ]
  },
  {
   "cell_type": "markdown",
   "metadata": {},
   "source": [
    "<br>\n",
    "***\n",
    "<br>\n",
    "\n",
    "# India district-wise Map:"
   ]
  },
  {
   "cell_type": "code",
   "execution_count": null,
   "metadata": {},
   "outputs": [],
   "source": [
    "india_map = folium.Map(location=[21.1458,79.0882],zoom_start=4)\n",
    "india_map.add_child(folium.GeoJson(data=(('https://raw.githubusercontent.com/jayanpraveen/covid-dashboard/master/assets/files/india_states.json'))))\n",
    "\n",
    "plot = pd.read_csv('https://raw.githubusercontent.com/jayanpraveen/covid-dashboard/master/assets/files/data.csv')\n",
    "\n",
    "url = \"https://api.covid19india.org/csv/latest/district_wise.csv\"\n",
    "\n",
    "LAT=list(plot['Latitude'])\n",
    "LON=list(plot['longitude'])\n",
    "data = pd.read_csv(url)\n",
    "\n",
    "find = list (data[\"District\"])\n",
    "data.set_index('District', inplace = True) \n",
    "\n",
    "for i in range(727):\n",
    "    district = plot.at[i,'District']\n",
    "    store = data.loc[district]\n",
    "    if district in find:\n",
    "        india_map.add_child(folium.CircleMarker(\n",
    "            location=[LAT[i],LON[i]],\n",
    "            fill=False,\n",
    "            color='red',\n",
    "            fill_color= 'blue',\n",
    "            radius= 2.5,\n",
    "            tooltip = \"<div style=' background-color: #171C26; color: #20D717;'>\"+\n",
    "                      \"<h4 style='font-size: 175%;text-align:center;font-weight: bold'>\" + district + \"</h3>\"\n",
    "                      \"<hr style='margin:10px;color: white;'>\"+\n",
    "                      \"<ul style='font-size: 125%;color: cyan;list-style-type:circle;align-item:left;padding-left:200px;padding-right:200px'>\"+\n",
    "                        \"<li>Confirmed: \"+str(store[\"Confirmed\"])+\"</li>\"+\n",
    "                        \"<li>Active: \"+str(store[\"Active\"])+\"</li>\"+\n",
    "                        \"<li>Recovered: \"+str(store[\"Recovered\"])+\"</li>\"+\n",
    "                        \"<li>Deceased: \"+str(store[\"Deceased\"])+\"</li>\"+\n",
    "                      \"</ul></div>\",\n",
    "            ))\n",
    "\n",
    "india_map"
   ]
  }
 ],
 "metadata": {
  "kernelspec": {
   "display_name": "Python 3",
   "language": "python",
   "name": "python3"
  },
  "language_info": {
   "codemirror_mode": {
    "name": "ipython",
    "version": 3
   },
   "file_extension": ".py",
   "mimetype": "text/x-python",
   "name": "python",
   "nbconvert_exporter": "python",
   "pygments_lexer": "ipython3",
   "version": "3.9.0"
  }
 },
 "nbformat": 4,
 "nbformat_minor": 4
}
