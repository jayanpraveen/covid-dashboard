{
 "cells": [
  {
   "cell_type": "code",
   "execution_count": null,
   "metadata": {},
   "outputs": [],
   "source": [
    "# Dependencies to be added"
   ]
  },
  {
   "cell_type": "code",
   "execution_count": null,
   "metadata": {},
   "outputs": [],
   "source": [
    "world_map = folium.Map(tiles = 'CartoDB dark_matter',location=[21.1458,79.0882],zoom_start=4)\n",
    "fg=folium.FeatureGroup('my map')\n",
    "world_map.add_child(folium.GeoJson(data=(open('/Users/jayanpraveen/Downloads/web-map/india_states.json','r',encoding='utf-8-sig').read())))\n",
    "marker_cluster = MarkerCluster().add_to(world_map)\n",
    "\n",
    "plot = pd.read_csv('/Users/jayanpraveen/Desktop/data.csv')\n",
    "\n",
    "AC = list(plot['ACTIVE CASES'])\n",
    "RC = list(plot['RECOVERED CASES'])\n",
    "DC = list(plot['DECEASED CASES'])\n",
    "LAT=list(plot['Latitude'])\n",
    "LON=list(plot['longitude'])\n",
    "DIS = list(plot['District'])\n",
    "\n",
    "\n",
    "# world_map.add_child( folium.CircleMarker(\n",
    "\n",
    "for i in range(727):\n",
    "        folium.CircleMarker(\n",
    "            location=[LAT[i],LON[i]],\n",
    "            fill=True,\n",
    "            color='red',\n",
    "            fill_color= 'blue',\n",
    "            radius= 2,\n",
    "            tooltip = \"<div style=' background-color: #171C26; color: #20D717;'>\"+\n",
    "                      \"<h4 style='text-align:center;font-weight: bold'>\"+ plot['District'][i] + \"</h3>\"\n",
    "                      \"<hr>\"+\n",
    "                      \"<ul style='color: black;padding-left:150px;padding-right:150px'>\"+\n",
    "                        \"<li style='color: #3291F3;font-weight: bold'>Confirmed: \"+str(plot['ACTIVE CASES'][i])+\"</li>\"+\n",
    "                        \"<li style='color: #DD0202;font-weight: bold'>Recovered: \"+str(plot['RECOVERED CASES'][i])+\"</li>\"+\n",
    "                        \"<li style='color: #069B0D;font-weight: bold'>DECEASED:  \"+str(plot['DECEASED CASES'][i])+\"</li>\"+\n",
    "                    \"</ul>\"+\n",
    "                    \"</div>\",\n",
    "        ).add_to(world_map)\n",
    "\n",
    "world_map"
   ]
  }
 ],
 "metadata": {
  "kernelspec": {
   "display_name": "Python 3",
   "language": "python",
   "name": "python3"
  },
  "language_info": {
   "codemirror_mode": {
    "name": "ipython",
    "version": 3
   },
   "file_extension": ".py",
   "mimetype": "text/x-python",
   "name": "python",
   "nbconvert_exporter": "python",
   "pygments_lexer": "ipython3",
   "version": "3.9.0"
  }
 },
 "nbformat": 4,
 "nbformat_minor": 4
}
