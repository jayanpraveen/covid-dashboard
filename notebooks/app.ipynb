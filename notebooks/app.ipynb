{
 "cells": [
  {
   "cell_type": "markdown",
   "metadata": {},
   "source": [
    "# Covid-19 Dashboard \n",
    "**A simple dashboard displaying spread of covid-19 in a world map.**\n",
    "<br>\n",
    "Source: github.com/CSSEGISandData/COVID-19\n",
    "***"
   ]
  },
  {
   "cell_type": "code",
   "execution_count": null,
   "metadata": {},
   "outputs": [],
   "source": [
    "import numpy as np\n",
    "import pandas as pd\n",
    "import folium\n",
    "from folium.plugins import MarkerCluster"
   ]
  },
  {
   "cell_type": "code",
   "execution_count": null,
   "metadata": {},
   "outputs": [],
   "source": [
    "death_df = pd.read_csv('https://raw.githubusercontent.com/CSSEGISandData/COVID-19/master/csse_covid_19_data/csse_covid_19_time_series/time_series_covid19_deaths_global.csv')\n",
    "confirmed_df = pd.read_csv('https://raw.githubusercontent.com/CSSEGISandData/COVID-19/master/csse_covid_19_data/csse_covid_19_time_series/time_series_covid19_confirmed_global.csv')\n",
    "recovered_df = pd.read_csv('https://raw.githubusercontent.com/CSSEGISandData/COVID-19/master/csse_covid_19_data/csse_covid_19_time_series/time_series_covid19_recovered_global.csv')\n",
    "country_df = pd.read_csv('https://raw.githubusercontent.com/CSSEGISandData/COVID-19/web-data/data/cases_country.csv')"
   ]
  },
  {
   "cell_type": "code",
   "execution_count": null,
   "metadata": {
    "colab": {},
    "colab_type": "code",
    "id": "1R1-vA671ecU"
   },
   "outputs": [],
   "source": [
    "country_df.columns = map(str.lower, country_df.columns)\n",
    "confirmed_df.columns = map(str.lower, confirmed_df.columns)\n",
    "death_df.columns = map(str.lower, death_df.columns)\n",
    "recovered_df.columns = map(str.lower, recovered_df.columns)\n",
    "confirmed_df = confirmed_df.rename(columns={'province/state': 'state', 'country/region': 'country'})\n",
    "recovered_df = confirmed_df.rename(columns={'province/state': 'state', 'country/region': 'country'})\n",
    "death_df = death_df.rename(columns={'province/state': 'state', 'country/region': 'country'})\n",
    "country_df = country_df.rename(columns={'country_region': 'country'})\n"
   ]
  },
  {
   "cell_type": "code",
   "execution_count": null,
   "metadata": {
    "colab": {},
    "colab_type": "code",
    "id": "Kq5teQ-i1edL",
    "outputId": "f6d13a2b-dbe4-4e48-9cfb-c5d0d654ee89",
    "scrolled": true
   },
   "outputs": [],
   "source": [
    "world_map = folium.Map( zoom_start=2, tiles='CartoDB dark_matter', TileLayer = ('Stamen Terrain'))\n",
    "\n",
    "marker_cluster = MarkerCluster().add_to(world_map)\n",
    "\n",
    "for i in range(0,len(confirmed_df)):\n",
    "    folium.Circle(\n",
    "        location=[confirmed_df.iloc[i]['lat'], confirmed_df.iloc[i]['long']],\n",
    "        \n",
    "        \n",
    "        fill=True,\n",
    "        radius=(int((np.log(confirmed_df.iloc[i,-1]+1.00001)))+0.2)*25000,\n",
    "        color='red',\n",
    "        fill_color='blue',\n",
    "        tooltip = \"<div style='margin: 0; background-color: #171C26; color: #20D717;'>\"+\n",
    "                    \"<h4 style='text-align:center;font-weight: bold'>\"+confirmed_df.iloc[i]['country'] + \"</h3>\"\n",
    "                    \"<hr style='margin:10px;color: white;'>\"+\n",
    "                    \"<ul style='color: white;list-style-type:circle;align-item:left;padding-left:200px;padding-right:200px'>\"+\n",
    "                        \"<li>Confirmed: \"+str(confirmed_df.iloc[i,-1])+\"</li>\"+\n",
    "                        \"<li>Deaths:   \"+str(death_df.iloc[i,-1])+\"</li>\"+\n",
    "                        \"<li>Death Rate: \"+ str(np.round(death_df.iloc[i,-1]/(confirmed_df.iloc[i,-1]+1.00001)*100,2))+ \"</li>\"+\n",
    "                    \"</ul></div>\",\n",
    "        ).add_to(marker_cluster)\n",
    "\n",
    "world_map\n"
   ]
  },
  {
   "cell_type": "code",
   "execution_count": null,
   "metadata": {},
   "outputs": [],
   "source": [
    "india_map = folium.Map(location=[21.1458,79.0882],zoom_start=5)\n",
    "india_map.add_child(folium.GeoJson(data=(open('/Users/jayanpraveen/Downloads/web-map/india_states.json','r',encoding='utf-8-sig').read())))\n",
    "marker_cluster = MarkerCluster().add_to(world_map)\n",
    "\n",
    "plot = pd.read_csv('/Users/jayanpraveen/Desktop/data.csv')\n",
    "\n",
    "url = \"https://api.covid19india.org/csv/latest/district_wise.csv\"\n",
    "data = pd.read_csv(url)\n",
    "\n",
    "LAT=list(plot['Latitude'])\n",
    "LON=list(plot['longitude'])\n",
    "\n",
    "\n",
    "find = list (data[\"District\"])\n",
    "data.set_index('District', inplace = True) \n",
    "\n",
    "for i in range(727):\n",
    "    district = plot.at[i,'District']\n",
    "    store = data.loc[district]\n",
    "    if district in find:\n",
    "        india_map.add_child(folium.CircleMarker(\n",
    "            location=[LAT[i],LON[i]],\n",
    "            fill=False,\n",
    "            color='red',\n",
    "            fill_color= 'blue',\n",
    "            radius= 2.5,\n",
    "            tooltip = \"<div style=' background-color: #171C26; color: #20D717;'>\"+\n",
    "                      \"<h4 style='font-size: 175%;text-align:center;font-weight: bold'>\" + district + \"</h3>\"\n",
    "                      \"<hr style='margin:10px;color: white;'>\"+\n",
    "                      \"<ul style='font-size: 125%;color: cyan;list-style-type:circle;align-item:left;padding-left:200px;padding-right:200px'>\"+\n",
    "                        \"<li>Confirmed: \"+str(store[\"Confirmed\"])+\"</li>\"+\n",
    "                        \"<li>Active: \"+str(store[\"Active\"])+\"</li>\"+\n",
    "                        \"<li>Recovered: \"+str(store[\"Recovered\"])+\"</li>\"+\n",
    "                        \"<li>Deceased: \"+str(store[\"Deceased\"])+\"</li>\"+\n",
    "                      \"</ul></div>\",\n",
    "            ))\n",
    "\n",
    "india_map"
   ]
  }
 ],
 "metadata": {
  "colab": {
   "name": "covid_19_dashboard.ipynb",
   "provenance": []
  },
  "kernelspec": {
   "display_name": "Python 3",
   "language": "python",
   "name": "python3"
  },
  "language_info": {
   "codemirror_mode": {
    "name": "ipython",
    "version": 3
   },
   "file_extension": ".py",
   "mimetype": "text/x-python",
   "name": "python",
   "nbconvert_exporter": "python",
   "pygments_lexer": "ipython3",
   "version": "3.9.0"
  }
 },
 "nbformat": 4,
 "nbformat_minor": 1
}
