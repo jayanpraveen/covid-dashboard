{
 "cells": [
  {
   "cell_type": "code",
   "execution_count": null,
   "metadata": {},
   "outputs": [],
   "source": [
    "import numpy as np\n",
    "import pandas as pd\n",
    "import folium\n",
    "from folium.plugins import MarkerCluster"
   ]
  },
  {
   "cell_type": "code",
   "execution_count": null,
   "metadata": {},
   "outputs": [],
   "source": [
    "world_map = folium.Map(tiles = 'CartoDB dark_matter',location=[21.1458,79.0882],zoom_start=5, height = 600, width = 1200)\n",
    "world_map.add_child(folium.GeoJson(data=(('https://raw.githubusercontent.com/jayanpraveen/covid-dashboard/master/assets/files/india_states.json'))))\n",
    "marker_cluster = MarkerCluster().add_to(world_map)\n",
    "\n",
    "plot = pd.read_csv('https://raw.githubusercontent.com/jayanpraveen/covid-dashboard/master/assets/files/data.csv')\n",
    "\n",
    "url = \"https://api.covid19india.org/csv/latest/district_wise.csv\"\n",
    "data = pd.read_csv(url)\n",
    "\n",
    "LAT=list(plot['Latitude'])\n",
    "LON=list(plot['longitude'])\n",
    "\n",
    "\n",
    "find = list (data[\"District\"])\n",
    "data.set_index('District', inplace = True) \n",
    "\n",
    "for i in range(727):\n",
    "    district = plot.at[i,'District']\n",
    "    store = data.loc[district]\n",
    "    if district in find:\n",
    "        world_map.add_child(folium.CircleMarker(\n",
    "            location=[LAT[i],LON[i]],\n",
    "            fill=False,\n",
    "            color='red',\n",
    "            fill_color= 'blue',\n",
    "            radius= 2.5,\n",
    "            tooltip = \"<div style=' background-color: #171C26; color: #20D717;'>\"+\n",
    "                      \"<h4 style='font-size: 175%;text-align:center;font-weight: bold'>\" + district + \"</h3>\"\n",
    "                      \"<hr style='margin:10px;color: white;'>\"+\n",
    "                      \"<ul style='font-size: 125%;color: cyan;list-style-type:circle;align-item:left;padding-left:200px;padding-right:200px'>\"+\n",
    "                        \"<li>Confirmed: \"+str(store[\"Confirmed\"])+\"</li>\"+\n",
    "                        \"<li>Active: \"+str(store[\"Active\"])+\"</li>\"+\n",
    "                        \"<li>Recovered: \"+str(store[\"Recovered\"])+\"</li>\"+\n",
    "                        \"<li>Deceased: \"+str(store[\"Deceased\"])+\"</li>\"+\n",
    "                      \"</ul></div>\",\n",
    "            ))\n",
    "\n",
    "world_map"
   ]
  },
  {
   "cell_type": "code",
   "execution_count": null,
   "metadata": {},
   "outputs": [],
   "source": []
  }
 ],
 "metadata": {
  "kernelspec": {
   "display_name": "Python 3",
   "language": "python",
   "name": "python3"
  },
  "language_info": {
   "codemirror_mode": {
    "name": "ipython",
    "version": 3
   },
   "file_extension": ".py",
   "mimetype": "text/x-python",
   "name": "python",
   "nbconvert_exporter": "python",
   "pygments_lexer": "ipython3",
   "version": "3.9.0"
  }
 },
 "nbformat": 4,
 "nbformat_minor": 4
}
